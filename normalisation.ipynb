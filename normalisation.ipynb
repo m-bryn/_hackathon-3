{
 "cells": [
  {
   "cell_type": "markdown",
   "id": "0f1ca1c7-dd1f-4e16-817b-1a2b66640cab",
   "metadata": {
    "id": "0f1ca1c7-dd1f-4e16-817b-1a2b66640cab"
   },
   "source": [
    "## Нормализация \"orders_cnt\" (количества заказов) по медиане предыдущих 7 дней"
   ]
  },
  {
   "cell_type": "code",
   "execution_count": 1,
   "id": "1ca6daa5",
   "metadata": {
    "id": "1ca6daa5"
   },
   "outputs": [],
   "source": [
    "import pandas as pd\n",
    "import arrow \n",
    "from tqdm import tqdm\n",
    "import pickle\n",
    "import numpy as np\n",
    "import warnings\n",
    "from pandas.core.common import SettingWithCopyWarning\n",
    "warnings.filterwarnings('ignore', category=SettingWithCopyWarning)\n",
    "# import warnings\n",
    "warnings.simplefilter(action='ignore', category=FutureWarning)"
   ]
  },
  {
   "cell_type": "code",
   "execution_count": 3,
   "id": "e1700eb9",
   "metadata": {
    "id": "e1700eb9"
   },
   "outputs": [],
   "source": [
    "data = pd.read_csv('data/orders.csv')"
   ]
  },
  {
   "cell_type": "code",
   "execution_count": 4,
   "id": "6056bc20",
   "metadata": {
    "id": "6056bc20"
   },
   "outputs": [],
   "source": [
    "d0 = data.copy()"
   ]
  },
  {
   "cell_type": "markdown",
   "id": "07819328-7c7e-404e-8657-c41ad36bef03",
   "metadata": {
    "id": "07819328-7c7e-404e-8657-c41ad36bef03"
   },
   "source": [
    "Достанем из столбца даты час и день недели"
   ]
  },
  {
   "cell_type": "code",
   "execution_count": 5,
   "id": "b78fdfe8",
   "metadata": {
    "id": "b78fdfe8"
   },
   "outputs": [],
   "source": [
    "d0['date']=pd.to_datetime(d0['date'])\n",
    "d0['hour'] = d0.date.dt.hour\n",
    "d0['weekday'] = d0.date.dt.weekday.astype(int)"
   ]
  },
  {
   "cell_type": "code",
   "execution_count": null,
   "id": "831d251f-ba5a-495a-aa3e-6466d9c53a2a",
   "metadata": {},
   "outputs": [],
   "source": [
    "d0 = pd.read_csv('data/d0.csv')"
   ]
  },
  {
   "cell_type": "code",
   "execution_count": 7,
   "id": "M6caN_7qs1y9",
   "metadata": {
    "colab": {
     "base_uri": "https://localhost:8080/",
     "height": 206
    },
    "id": "M6caN_7qs1y9",
    "outputId": "a9c7c71a-2883-46d9-9383-0c6c962c9b11"
   },
   "outputs": [],
   "source": [
    "d0['orders_cnt_normalized'] = np.zeros(884856)"
   ]
  },
  {
   "cell_type": "code",
   "execution_count": 8,
   "id": "q0zUBjQ36IzD",
   "metadata": {
    "colab": {
     "base_uri": "https://localhost:8080/",
     "height": 49
    },
    "id": "q0zUBjQ36IzD",
    "outputId": "2f4c9af9-345a-4bca-f2e3-281f7fa525cd"
   },
   "outputs": [],
   "source": [
    "normalized_df = pd.DataFrame(columns = ['delivery_area_id', 'date', 'orders_cnt', 'hour', 'weekday', 'orders_cnt_normalized', 'orders_cnt_finally_normalized'])"
   ]
  },
  {
   "cell_type": "code",
   "execution_count": 9,
   "id": "HThJ68bVzVMT",
   "metadata": {
    "id": "HThJ68bVzVMT"
   },
   "outputs": [],
   "source": [
    "areas = d0['delivery_area_id'].unique()"
   ]
  },
  {
   "cell_type": "code",
   "execution_count": 10,
   "id": "rT95Kqfz5HPY",
   "metadata": {
    "colab": {
     "base_uri": "https://localhost:8080/"
    },
    "id": "rT95Kqfz5HPY",
    "outputId": "befa8f51-6407-4ecf-f2a4-bf53cb106e8e"
   },
   "outputs": [
    {
     "name": "stderr",
     "output_type": "stream",
     "text": [
      "100%|██████████| 593/593 [02:02<00:00,  4.85it/s]\n"
     ]
    }
   ],
   "source": [
    "import statistics\n",
    "import statistics\n",
    "for area in tqdm(areas):\n",
    "  filtered_df = d0[d0['delivery_area_id'] == area]\n",
    "  medians = []\n",
    "  for i in range(7, len(filtered_df), 7):\n",
    "      # print(filtered_df['orders_cnt'][i-7:i].to_numpy())\n",
    "      median_new = statistics.median(np.array(filtered_df['orders_cnt'][i-7:i]))\n",
    "      filtered_df['orders_cnt_normalized'][i-7:i] = median_new\n",
    "  filtered_df['orders_cnt_finally_normalized'] = filtered_df['orders_cnt'] / filtered_df['orders_cnt_normalized']\n",
    "  df_append = normalized_df.append(filtered_df, ignore_index=True)\n",
    "  normalized_df = df_append"
   ]
  },
  {
   "cell_type": "code",
   "execution_count": 69,
   "id": "gq1TNbam4ejj",
   "metadata": {
    "colab": {
     "base_uri": "https://localhost:8080/",
     "height": 424
    },
    "id": "gq1TNbam4ejj",
    "outputId": "be4c705a-c739-4a92-fbcb-b6298074486c"
   },
   "outputs": [],
   "source": [
    "# normalized_df.loc[normalized_df.delivery_area_id==0][:20].orders_cnt_finally_normalized.plot()"
   ]
  },
  {
   "cell_type": "code",
   "execution_count": 11,
   "id": "RJeDPZzv8Ehg",
   "metadata": {
    "colab": {
     "base_uri": "https://localhost:8080/"
    },
    "id": "RJeDPZzv8Ehg",
    "outputId": "b38f675a-8a23-4240-8745-e1a428d11178"
   },
   "outputs": [],
   "source": [
    "for i in range(len(normalized_df)):\n",
    "  if normalized_df['orders_cnt_finally_normalized'][i] == np.inf:\n",
    "    normalized_df['orders_cnt_finally_normalized'][i] = 0"
   ]
  },
  {
   "cell_type": "code",
   "execution_count": 12,
   "id": "GWHcaNVzyW1m",
   "metadata": {
    "id": "GWHcaNVzyW1m"
   },
   "outputs": [],
   "source": [
    "normalized_df.to_csv('data/normalized_df.csv')"
   ]
  }
 ],
 "metadata": {
  "colab": {
   "provenance": []
  },
  "kernelspec": {
   "display_name": "Python 3 (ipykernel)",
   "language": "python",
   "name": "python3"
  },
  "language_info": {
   "codemirror_mode": {
    "name": "ipython",
    "version": 3
   },
   "file_extension": ".py",
   "mimetype": "text/x-python",
   "name": "python",
   "nbconvert_exporter": "python",
   "pygments_lexer": "ipython3",
   "version": "3.8.13"
  }
 },
 "nbformat": 4,
 "nbformat_minor": 5
}
