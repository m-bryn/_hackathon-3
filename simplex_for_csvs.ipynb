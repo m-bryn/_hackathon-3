{
 "cells": [
  {
   "cell_type": "code",
   "execution_count": 2,
   "id": "39cd6004",
   "metadata": {},
   "outputs": [],
   "source": [
    "import numpy as np\n",
    "from scipy.optimize import linprog\n",
    "import pandas as pd"
   ]
  },
  {
   "cell_type": "code",
   "execution_count": 3,
   "id": "e6b5b7a7",
   "metadata": {},
   "outputs": [
    {
     "name": "stdout",
     "output_type": "stream",
     "text": [
      "Requirement already satisfied: scipy in ./opt/anaconda3/lib/python3.9/site-packages (1.9.2)\n",
      "Requirement already satisfied: numpy<1.26.0,>=1.18.5 in ./opt/anaconda3/lib/python3.9/site-packages (from scipy) (1.21.5)\n",
      "Note: you may need to restart the kernel to use updated packages.\n"
     ]
    }
   ],
   "source": [
    "pip install --upgrade scipy"
   ]
  },
  {
   "cell_type": "code",
   "execution_count": null,
   "id": "ebaa44e7",
   "metadata": {},
   "outputs": [],
   "source": [
    "r0 = pd.read_csv('r0.csv')\n",
    "r1 = pd.read_csv('r1.csv')\n",
    "r2 = pd.read_csv('r2.csv')\n",
    "r3 = pd.read_csv('r3.csv')\n",
    "r4 = pd.read_csv('r4.csv')\n",
    "r5 = pd.read_csv('r5.csv')\n",
    "r6 = pd.read_csv('r6.csv')"
   ]
  },
  {
   "cell_type": "code",
   "execution_count": 13,
   "id": "3efbe898",
   "metadata": {},
   "outputs": [
    {
     "data": {
      "text/plain": [
       "array([[1., 1., 1., 1., 0., 0., 0., 0., 0., 0., 0., 0., 0., 0., 0., 0.],\n",
       "       [0., 1., 1., 1., 1., 0., 0., 0., 0., 0., 0., 0., 0., 0., 0., 0.],\n",
       "       [0., 0., 1., 1., 1., 1., 0., 0., 0., 0., 0., 0., 0., 0., 0., 0.],\n",
       "       [0., 0., 0., 1., 1., 1., 1., 0., 0., 0., 0., 0., 0., 0., 0., 0.],\n",
       "       [0., 0., 0., 0., 1., 1., 1., 1., 0., 0., 0., 0., 0., 0., 0., 0.],\n",
       "       [0., 0., 0., 0., 0., 1., 1., 1., 1., 0., 0., 0., 0., 0., 0., 0.],\n",
       "       [0., 0., 0., 0., 0., 0., 1., 1., 1., 1., 0., 0., 0., 0., 0., 0.],\n",
       "       [0., 0., 0., 0., 0., 0., 0., 1., 1., 1., 1., 0., 0., 0., 0., 0.],\n",
       "       [0., 0., 0., 0., 0., 0., 0., 0., 1., 1., 1., 1., 0., 0., 0., 0.],\n",
       "       [0., 0., 0., 0., 0., 0., 0., 0., 0., 1., 1., 1., 1., 0., 0., 0.],\n",
       "       [0., 0., 0., 0., 0., 0., 0., 0., 0., 0., 1., 1., 1., 1., 0., 0.],\n",
       "       [0., 0., 0., 0., 0., 0., 0., 0., 0., 0., 0., 1., 1., 1., 1., 0.],\n",
       "       [0., 0., 0., 0., 0., 0., 0., 0., 0., 0., 0., 0., 1., 1., 1., 1.],\n",
       "       [1., 1., 1., 1., 1., 0., 0., 0., 0., 0., 0., 0., 0., 0., 0., 0.],\n",
       "       [0., 1., 1., 1., 1., 1., 0., 0., 0., 0., 0., 0., 0., 0., 0., 0.],\n",
       "       [0., 0., 1., 1., 1., 1., 1., 0., 0., 0., 0., 0., 0., 0., 0., 0.],\n",
       "       [0., 0., 0., 1., 1., 1., 1., 1., 0., 0., 0., 0., 0., 0., 0., 0.],\n",
       "       [0., 0., 0., 0., 1., 1., 1., 1., 1., 0., 0., 0., 0., 0., 0., 0.],\n",
       "       [0., 0., 0., 0., 0., 1., 1., 1., 1., 1., 0., 0., 0., 0., 0., 0.],\n",
       "       [0., 0., 0., 0., 0., 0., 1., 1., 1., 1., 1., 0., 0., 0., 0., 0.],\n",
       "       [0., 0., 0., 0., 0., 0., 0., 1., 1., 1., 1., 1., 0., 0., 0., 0.],\n",
       "       [0., 0., 0., 0., 0., 0., 0., 0., 1., 1., 1., 1., 1., 0., 0., 0.],\n",
       "       [0., 0., 0., 0., 0., 0., 0., 0., 0., 1., 1., 1., 1., 1., 0., 0.],\n",
       "       [0., 0., 0., 0., 0., 0., 0., 0., 0., 0., 1., 1., 1., 1., 1., 0.],\n",
       "       [0., 0., 0., 0., 0., 0., 0., 0., 0., 0., 0., 1., 1., 1., 1., 1.],\n",
       "       [1., 1., 1., 1., 1., 1., 0., 0., 0., 0., 0., 0., 0., 0., 0., 0.],\n",
       "       [0., 1., 1., 1., 1., 1., 1., 0., 0., 0., 0., 0., 0., 0., 0., 0.],\n",
       "       [0., 0., 1., 1., 1., 1., 1., 1., 0., 0., 0., 0., 0., 0., 0., 0.],\n",
       "       [0., 0., 0., 1., 1., 1., 1., 1., 1., 0., 0., 0., 0., 0., 0., 0.],\n",
       "       [0., 0., 0., 0., 1., 1., 1., 1., 1., 1., 0., 0., 0., 0., 0., 0.],\n",
       "       [0., 0., 0., 0., 0., 1., 1., 1., 1., 1., 1., 0., 0., 0., 0., 0.],\n",
       "       [0., 0., 0., 0., 0., 0., 1., 1., 1., 1., 1., 1., 0., 0., 0., 0.],\n",
       "       [0., 0., 0., 0., 0., 0., 0., 1., 1., 1., 1., 1., 1., 0., 0., 0.],\n",
       "       [0., 0., 0., 0., 0., 0., 0., 0., 1., 1., 1., 1., 1., 1., 0., 0.],\n",
       "       [0., 0., 0., 0., 0., 0., 0., 0., 0., 1., 1., 1., 1., 1., 1., 0.],\n",
       "       [0., 0., 0., 0., 0., 0., 0., 0., 0., 0., 1., 1., 1., 1., 1., 1.],\n",
       "       [1., 1., 1., 1., 1., 1., 1., 0., 0., 0., 0., 0., 0., 0., 0., 0.],\n",
       "       [0., 1., 1., 1., 1., 1., 1., 1., 0., 0., 0., 0., 0., 0., 0., 0.],\n",
       "       [0., 0., 1., 1., 1., 1., 1., 1., 1., 0., 0., 0., 0., 0., 0., 0.],\n",
       "       [0., 0., 0., 1., 1., 1., 1., 1., 1., 1., 0., 0., 0., 0., 0., 0.],\n",
       "       [0., 0., 0., 0., 1., 1., 1., 1., 1., 1., 1., 0., 0., 0., 0., 0.],\n",
       "       [0., 0., 0., 0., 0., 1., 1., 1., 1., 1., 1., 1., 0., 0., 0., 0.],\n",
       "       [0., 0., 0., 0., 0., 0., 1., 1., 1., 1., 1., 1., 1., 0., 0., 0.],\n",
       "       [0., 0., 0., 0., 0., 0., 0., 1., 1., 1., 1., 1., 1., 1., 0., 0.],\n",
       "       [0., 0., 0., 0., 0., 0., 0., 0., 1., 1., 1., 1., 1., 1., 1., 0.],\n",
       "       [0., 0., 0., 0., 0., 0., 0., 0., 0., 1., 1., 1., 1., 1., 1., 1.],\n",
       "       [1., 1., 1., 1., 1., 1., 1., 1., 0., 0., 0., 0., 0., 0., 0., 0.],\n",
       "       [0., 1., 1., 1., 1., 1., 1., 1., 1., 0., 0., 0., 0., 0., 0., 0.],\n",
       "       [0., 0., 1., 1., 1., 1., 1., 1., 1., 1., 0., 0., 0., 0., 0., 0.],\n",
       "       [0., 0., 0., 1., 1., 1., 1., 1., 1., 1., 1., 0., 0., 0., 0., 0.],\n",
       "       [0., 0., 0., 0., 1., 1., 1., 1., 1., 1., 1., 1., 0., 0., 0., 0.],\n",
       "       [0., 0., 0., 0., 0., 1., 1., 1., 1., 1., 1., 1., 1., 0., 0., 0.],\n",
       "       [0., 0., 0., 0., 0., 0., 1., 1., 1., 1., 1., 1., 1., 1., 0., 0.],\n",
       "       [0., 0., 0., 0., 0., 0., 0., 1., 1., 1., 1., 1., 1., 1., 1., 0.],\n",
       "       [0., 0., 0., 0., 0., 0., 0., 0., 1., 1., 1., 1., 1., 1., 1., 1.]])"
      ]
     },
     "execution_count": 13,
     "metadata": {},
     "output_type": "execute_result"
    }
   ],
   "source": [
    "def matrix_for_simplex(size):\n",
    "  A = np.zeros(size)\n",
    "  working_shifts = [4,5,6,7,8]\n",
    "  count = 0\n",
    "  for shift in working_shifts:\n",
    "    k = 0\n",
    "    for j in range(A.shape[1] - shift + 1):\n",
    "      for i in range(shift):\n",
    "        A[j + count][i + k] = 1\n",
    "      k+=1\n",
    "    count += j + 1\n",
    "  return A\n",
    "#можно кастомить size но тут подстроено под 16 часовой рабочий день, в примере был 11 часовой и матрица 30 x 11, в нашем случае 55 * 16\n",
    "size = (55, 16)\n",
    "A = matrix_for_simplex(size)\n",
    "A"
   ]
  },
  {
   "cell_type": "code",
   "execution_count": 15,
   "id": "680eb7d3",
   "metadata": {},
   "outputs": [],
   "source": [
    "c = np.ones(55)\n",
    "#Параметр для модели"
   ]
  },
  {
   "cell_type": "markdown",
   "id": "2def953f",
   "metadata": {},
   "source": [
    "**Делаем для каждого из 7 дней таблицу**"
   ]
  },
  {
   "cell_type": "code",
   "execution_count": 9,
   "id": "11b56768",
   "metadata": {},
   "outputs": [],
   "source": [
    "Shifts_0_day = pd.DataFrame(columns = ['shift_name'], index = range(55))\n",
    "\n",
    "\n",
    "#4 часовые:\n",
    "for i in range(13):\n",
    "    Shifts_0_day['shift_name'][i] = 'shift_'+str(i+7)+'-'+str(i+4+7)\n",
    "\n",
    "#5 часовые:\n",
    "for i in range(12):\n",
    "    Shifts_0_day['shift_name'][i+13] = 'shift_'+str(i+7)+'-'+str(i+5+7)\n",
    "    \n",
    "#6 часовые:\n",
    "for i in range(11):\n",
    "    Shifts_0_day['shift_name'][i+25] = 'shift_'+str(i+7)+'-'+str(i+6+7)\n",
    "    \n",
    "#7 часовые:\n",
    "for i in range(10):\n",
    "    Shifts_0_day['shift_name'][i+36] = 'shift_'+str(i+7)+'-'+str(i+7+7)\n",
    "    \n",
    "#8 часовые:\n",
    "for i in range(9):\n",
    "    Shifts_0_day['shift_name'][i+46] = 'shift_'+str(i+7)+'-'+str(i+8+7)\n",
    "\n",
    "    \n",
    "for i in range(0, 593): #593\n",
    "  h = r0['predict'+str(i)]\n",
    "  res = linprog(c, A_ub=-A.T, b_ub = -h, integrality=np.ones(55))\n",
    "  x = res.x\n",
    "  Shifts_0_day['predict '+str(i)] = abs(x)"
   ]
  },
  {
   "cell_type": "code",
   "execution_count": null,
   "id": "74c701d9",
   "metadata": {},
   "outputs": [],
   "source": [
    "Shifts_0_day"
   ]
  },
  {
   "cell_type": "code",
   "execution_count": null,
   "id": "92d4c0f3",
   "metadata": {},
   "outputs": [],
   "source": [
    "Shifts_1_day = pd.DataFrame(columns = ['shift_name'], index = range(55))\n",
    "\n",
    "\n",
    "#4 часовые:\n",
    "for i in range(13):\n",
    "    Shifts_1_day['shift_name'][i] = 'shift_'+str(i+7)+'-'+str(i+4+7)\n",
    "\n",
    "#5 часовые:\n",
    "for i in range(12):\n",
    "    Shifts_1_day['shift_name'][i+13] = 'shift_'+str(i+7)+'-'+str(i+5+7)\n",
    "    \n",
    "#6 часовые:\n",
    "for i in range(11):\n",
    "    Shifts_1_day['shift_name'][i+25] = 'shift_'+str(i+7)+'-'+str(i+6+7)\n",
    "    \n",
    "#7 часовые:\n",
    "for i in range(10):\n",
    "    Shifts_1_day['shift_name'][i+36] = 'shift_'+str(i+7)+'-'+str(i+7+7)\n",
    "    \n",
    "#8 часовые:\n",
    "for i in range(9):\n",
    "    Shifts_1_day['shift_name'][i+46] = 'shift_'+str(i+7)+'-'+str(i+8+7)\n",
    "\n",
    "\n",
    "for i in range(0, 593): #593\n",
    "  h = r1['predict'+str(i)]\n",
    "  res = linprog(c, A_ub=-A.T, b_ub = -h, integrality=np.ones(55))\n",
    "  x = res.x\n",
    "  Shifts_1_day['predict '+str(i)] = abs(x)"
   ]
  },
  {
   "cell_type": "code",
   "execution_count": null,
   "id": "8341cf21",
   "metadata": {},
   "outputs": [],
   "source": [
    "Shifts_1_day"
   ]
  },
  {
   "cell_type": "code",
   "execution_count": null,
   "id": "dc2b6903",
   "metadata": {},
   "outputs": [],
   "source": [
    "Shifts_2_day = pd.DataFrame(columns = ['shift_name'], index = range(55))\n",
    "\n",
    "\n",
    "#4 часовые:\n",
    "for i in range(13):\n",
    "    Shifts_2_day['shift_name'][i] = 'shift_'+str(i+7)+'-'+str(i+4+7)\n",
    "\n",
    "#5 часовые:\n",
    "for i in range(12):\n",
    "    Shifts_2_day['shift_name'][i+13] = 'shift_'+str(i+7)+'-'+str(i+5+7)\n",
    "    \n",
    "#6 часовые:\n",
    "for i in range(11):\n",
    "    Shifts_2_day['shift_name'][i+25] = 'shift_'+str(i+7)+'-'+str(i+6+7)\n",
    "    \n",
    "#7 часовые:\n",
    "for i in range(10):\n",
    "    Shifts_2_day['shift_name'][i+36] = 'shift_'+str(i+7)+'-'+str(i+7+7)\n",
    "    \n",
    "#8 часовые:\n",
    "for i in range(9):\n",
    "    Shifts_2_day['shift_name'][i+46] = 'shift_'+str(i+7)+'-'+str(i+8+7)\n",
    "\n",
    "\n",
    "for i in range(0, 593): #593\n",
    "  h = r2['predict'+str(i)]\n",
    "  res = linprog(c, A_ub=-A.T, b_ub = -h, integrality=np.ones(55))\n",
    "  x = res.x\n",
    "  Shifts_2_day['predict '+str(i)] = abs(x)"
   ]
  },
  {
   "cell_type": "code",
   "execution_count": null,
   "id": "560ea0aa",
   "metadata": {},
   "outputs": [],
   "source": [
    "Shifts_2_day"
   ]
  },
  {
   "cell_type": "code",
   "execution_count": null,
   "id": "da5c0839",
   "metadata": {},
   "outputs": [],
   "source": [
    "Shifts_3_day = pd.DataFrame(columns = ['shift_name'], index = range(55))\n",
    "\n",
    "\n",
    "#4 часовые:\n",
    "for i in range(13):\n",
    "    Shifts_3_day['shift_name'][i] = 'shift_'+str(i+7)+'-'+str(i+4+7)\n",
    "\n",
    "#5 часовые:\n",
    "for i in range(12):\n",
    "    Shifts_3_day['shift_name'][i+13] = 'shift_'+str(i+7)+'-'+str(i+5+7)\n",
    "    \n",
    "#6 часовые:\n",
    "for i in range(11):\n",
    "    Shifts_3_day['shift_name'][i+25] = 'shift_'+str(i+7)+'-'+str(i+6+7)\n",
    "    \n",
    "#7 часовые:\n",
    "for i in range(10):\n",
    "    Shifts_3_day['shift_name'][i+36] = 'shift_'+str(i+7)+'-'+str(i+7+7)\n",
    "    \n",
    "#8 часовые:\n",
    "for i in range(9):\n",
    "    Shifts_3_day['shift_name'][i+46] = 'shift_'+str(i+7)+'-'+str(i+8+7)\n",
    "\n",
    "\n",
    "for i in range(0, 593): #593\n",
    "  h = r3['predict'+str(i)]\n",
    "  res = linprog(c, A_ub=-A.T, b_ub = -h, integrality=np.ones(55))\n",
    "  x = res.x\n",
    "  Shifts_3_day['predict '+str(i)] = abs(x)"
   ]
  },
  {
   "cell_type": "code",
   "execution_count": null,
   "id": "562e458e",
   "metadata": {},
   "outputs": [],
   "source": [
    "Shifts_3_day"
   ]
  },
  {
   "cell_type": "code",
   "execution_count": null,
   "id": "b1803e23",
   "metadata": {},
   "outputs": [],
   "source": [
    "Shifts_4_day = pd.DataFrame(columns = ['shift_name'], index = range(55))\n",
    "\n",
    "\n",
    "#4 часовые:\n",
    "for i in range(13):\n",
    "    Shifts_4_day['shift_name'][i] = 'shift_'+str(i+7)+'-'+str(i+4+7)\n",
    "\n",
    "#5 часовые:\n",
    "for i in range(12):\n",
    "    Shifts_4_day['shift_name'][i+13] = 'shift_'+str(i+7)+'-'+str(i+5+7)\n",
    "    \n",
    "#6 часовые:\n",
    "for i in range(11):\n",
    "    Shifts_4_day['shift_name'][i+25] = 'shift_'+str(i+7)+'-'+str(i+6+7)\n",
    "    \n",
    "#7 часовые:\n",
    "for i in range(10):\n",
    "    Shifts_4_day['shift_name'][i+36] = 'shift_'+str(i+7)+'-'+str(i+7+7)\n",
    "    \n",
    "#8 часовые:\n",
    "for i in range(9):\n",
    "    Shifts_4_day['shift_name'][i+46] = 'shift_'+str(i+7)+'-'+str(i+8+7)\n",
    "\n",
    "\n",
    "for i in range(0, 593): #593\n",
    "  h = r4['predict'+str(i)]\n",
    "  res = linprog(c, A_ub=-A.T, b_ub = -h, integrality=np.ones(55))\n",
    "  x = res.x\n",
    "  Shifts_4_day['predict '+str(i)] = abs(x)"
   ]
  },
  {
   "cell_type": "code",
   "execution_count": null,
   "id": "43e19c22",
   "metadata": {},
   "outputs": [],
   "source": [
    "Shifts_4_day"
   ]
  },
  {
   "cell_type": "code",
   "execution_count": null,
   "id": "9aed481a",
   "metadata": {},
   "outputs": [],
   "source": [
    "Shifts_5_day = pd.DataFrame(columns = ['shift_name'], index = range(55))\n",
    "\n",
    "\n",
    "#4 часовые:\n",
    "for i in range(13):\n",
    "    Shifts_5_day['shift_name'][i] = 'shift_'+str(i+7)+'-'+str(i+4+7)\n",
    "\n",
    "#5 часовые:\n",
    "for i in range(12):\n",
    "    Shifts_5_day['shift_name'][i+13] = 'shift_'+str(i+7)+'-'+str(i+5+7)\n",
    "    \n",
    "#6 часовые:\n",
    "for i in range(11):\n",
    "    Shifts_5_day['shift_name'][i+25] = 'shift_'+str(i+7)+'-'+str(i+6+7)\n",
    "    \n",
    "#7 часовые:\n",
    "for i in range(10):\n",
    "    Shifts_5_day['shift_name'][i+36] = 'shift_'+str(i+7)+'-'+str(i+7+7)\n",
    "    \n",
    "#8 часовые:\n",
    "for i in range(9):\n",
    "    Shifts_5_day['shift_name'][i+46] = 'shift_'+str(i+7)+'-'+str(i+8+7)\n",
    "\n",
    "\n",
    "for i in range(0, 593): #593\n",
    "  h = r5['predict'+str(i)]\n",
    "  res = linprog(c, A_ub=-A.T, b_ub = -h, integrality=np.ones(55))\n",
    "  x = res.x\n",
    "  Shifts_5_day['predict '+str(i)] = abs(x)"
   ]
  },
  {
   "cell_type": "code",
   "execution_count": null,
   "id": "3656d613",
   "metadata": {},
   "outputs": [],
   "source": [
    "Shifts_5_day"
   ]
  },
  {
   "cell_type": "code",
   "execution_count": null,
   "id": "4b28daf9",
   "metadata": {},
   "outputs": [],
   "source": [
    "Shifts_6_day = pd.DataFrame(columns = ['shift_name'], index = range(55))\n",
    "\n",
    "\n",
    "#4 часовые:\n",
    "for i in range(13):\n",
    "    Shifts_6_day['shift_name'][i] = 'shift_'+str(i+7)+'-'+str(i+4+7)\n",
    "\n",
    "#5 часовые:\n",
    "for i in range(12):\n",
    "    Shifts_6_day['shift_name'][i+13] = 'shift_'+str(i+7)+'-'+str(i+5+7)\n",
    "    \n",
    "#6 часовые:\n",
    "for i in range(11):\n",
    "    Shifts_6_day['shift_name'][i+25] = 'shift_'+str(i+7)+'-'+str(i+6+7)\n",
    "    \n",
    "#7 часовые:\n",
    "for i in range(10):\n",
    "    Shifts_6_day['shift_name'][i+36] = 'shift_'+str(i+7)+'-'+str(i+7+7)\n",
    "    \n",
    "#8 часовые:\n",
    "for i in range(9):\n",
    "    Shifts_6_day['shift_name'][i+46] = 'shift_'+str(i+7)+'-'+str(i+8+7)\n",
    "\n",
    "\n",
    "for i in range(0, 593): #593\n",
    "  h = r6['predict'+str(i)]\n",
    "  res = linprog(c, A_ub=-A.T, b_ub = -h, integrality=np.ones(55))\n",
    "  x = res.x\n",
    "  Shifts_6_day['predict '+str(i)] = abs(x)"
   ]
  },
  {
   "cell_type": "code",
   "execution_count": null,
   "id": "741c468b",
   "metadata": {},
   "outputs": [],
   "source": [
    "Shifts_6_day"
   ]
  }
 ],
 "metadata": {
  "kernelspec": {
   "display_name": "Python 3 (ipykernel)",
   "language": "python",
   "name": "python3"
  },
  "language_info": {
   "codemirror_mode": {
    "name": "ipython",
    "version": 3
   },
   "file_extension": ".py",
   "mimetype": "text/x-python",
   "name": "python",
   "nbconvert_exporter": "python",
   "pygments_lexer": "ipython3",
   "version": "3.9.12"
  }
 },
 "nbformat": 4,
 "nbformat_minor": 5
}
