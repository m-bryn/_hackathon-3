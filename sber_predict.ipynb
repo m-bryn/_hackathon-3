{
 "cells": [
  {
   "cell_type": "markdown",
   "id": "0f1ca1c7-dd1f-4e16-817b-1a2b66640cab",
   "metadata": {},
   "source": [
    "## Обработка таблицы \"Orders\""
   ]
  },
  {
   "cell_type": "code",
   "execution_count": 5,
   "id": "1ca6daa5",
   "metadata": {},
   "outputs": [],
   "source": [
    "import pandas as pd\n",
    "import arrow \n",
    "from tqdm import tqdm\n",
    "import pickle"
   ]
  },
  {
   "cell_type": "code",
   "execution_count": 6,
   "id": "e1700eb9",
   "metadata": {},
   "outputs": [],
   "source": [
    "data = pd.read_csv('orders.csv')"
   ]
  },
  {
   "cell_type": "code",
   "execution_count": 8,
   "id": "6056bc20",
   "metadata": {},
   "outputs": [],
   "source": [
    "d0 = data.copy()"
   ]
  },
  {
   "cell_type": "markdown",
   "id": "07819328-7c7e-404e-8657-c41ad36bef03",
   "metadata": {},
   "source": [
    "Достанем из столбца даты час и день недели"
   ]
  },
  {
   "cell_type": "code",
   "execution_count": 10,
   "id": "b78fdfe8",
   "metadata": {},
   "outputs": [],
   "source": [
    "d0['date']=pd.to_datetime(d0['date'])\n",
    "d0['hour'] = d0.date.dt.hour\n",
    "d0['weekday'] = d0.date.dt.weekday.astype(int)"
   ]
  },
  {
   "cell_type": "code",
   "execution_count": 24,
   "id": "0a347908",
   "metadata": {},
   "outputs": [],
   "source": [
    "from sklearn.model_selection import train_test_split\n",
    "from sklearn.linear_model import LogisticRegression\n",
    "from sklearn import metrics\n",
    "import matplotlib.pyplot as plt\n",
    "from sklearn.model_selection import train_test_split\n",
    "import warnings\n",
    "import pandas as pd \n",
    "from sklearn.metrics import *\n",
    "# from catboost import CatBoostClassifier, CatBoostRegressor\n",
    "import numpy as np\n",
    "from lightautoml.automl.presets.tabular_presets import TabularAutoML, TabularUtilizedAutoML\n",
    "from sklearn.model_selection import StratifiedKFold\n",
    "import lightgbm as lgb\n",
    "warnings.filterwarnings('ignore')\n",
    "import pickle"
   ]
  },
  {
   "cell_type": "markdown",
   "id": "b52dc0c6-d260-4c0d-a2bd-7af2499d6321",
   "metadata": {},
   "source": [
    "## Сделаем прогноз для 7 дней недели и всех регионов\n",
    "(Добавим строку с метрикой MAPE)"
   ]
  },
  {
   "cell_type": "code",
   "execution_count": 37,
   "id": "34b026da",
   "metadata": {},
   "outputs": [
    {
     "name": "stderr",
     "output_type": "stream",
     "text": [
      "100%|████████████████████████████████████████████████████████████████████████████████| 593/593 [01:10<00:00,  8.46it/s]\n",
      "100%|████████████████████████████████████████████████████████████████████████████████| 593/593 [00:49<00:00, 11.91it/s]\n",
      "100%|████████████████████████████████████████████████████████████████████████████████| 593/593 [01:05<00:00,  9.03it/s]\n",
      "100%|████████████████████████████████████████████████████████████████████████████████| 593/593 [00:58<00:00, 10.07it/s]\n",
      "100%|████████████████████████████████████████████████████████████████████████████████| 593/593 [00:54<00:00, 10.94it/s]\n",
      "100%|████████████████████████████████████████████████████████████████████████████████| 593/593 [01:04<00:00,  9.16it/s]\n",
      "100%|████████████████████████████████████████████████████████████████████████████████| 593/593 [01:04<00:00,  9.26it/s]\n"
     ]
    }
   ],
   "source": [
    "mon_sum_pred = pd.DataFrame()\n",
    "for k in range(0, 7):\n",
    "    locals()['sum_pred'+str(k)]=pd.DataFrame()\n",
    "    locals()['MAPE'+str(k)]=pd.DataFrame()\n",
    "    for i in range(8, 24):\n",
    "            mon_sum_pred.loc[i, 'hour']=int(i)\n",
    "    for j in tqdm(data.delivery_area_id.unique()):\n",
    "        d_temp = d0.loc[d0.delivery_area_id==j]\n",
    "        d_train = d_temp.loc[d0.weekday==k]\n",
    "        X_train, X_test, y_train, y_test = train_test_split(d_train.drop(['date','orders_cnt','delivery_area_id', 'weekday'], axis=1), d_train['orders_cnt'], test_size=0.33, random_state=42)\n",
    "        params = {'n_estimators': 2000, 'verbose': -1}\n",
    "        params_fit = {'X': X_train, 'y': y_train, 'eval_set': (X_test, y_test), 'verbose': False, 'early_stopping_rounds':5}\n",
    "        gbm = lgb.LGBMRegressor(metric='mape', **params)\n",
    "        gbm.fit(**params_fit)\n",
    "        locals()['sum_pred'+str(k)]['predict'+str(j)]=gbm.predict(pd.DataFrame(mon_sum_pred.hour))\n",
    "        y_pred0 = gbm.predict(X_test)\n",
    "        locals()['MAPE'+str(k)].loc[0,'predict'+str(j)] = mean_absolute_percentage_error(y_test, y_pred0)"
   ]
  },
  {
   "cell_type": "markdown",
   "id": "33ab1c22-827a-4f2c-92b3-bae1a6d83b27",
   "metadata": {},
   "source": [
    "Сохраним файл с предиктами"
   ]
  },
  {
   "cell_type": "code",
   "execution_count": 1479,
   "id": "bc62ed46",
   "metadata": {},
   "outputs": [],
   "source": [
    "for i in range(0, 7):\n",
    "    with open('sum_pred'+str(i)+'.pickle', 'wb') as handle:\n",
    "            pickle.dump(locals()['sum_pred'+str(i)], handle, protocol=pickle.HIGHEST_PROTOCOL)"
   ]
  },
  {
   "cell_type": "markdown",
   "id": "6d6142e7",
   "metadata": {},
   "source": [
    "## Поиск оптимального отношения партнёров к количеству заказов"
   ]
  },
  {
   "cell_type": "markdown",
   "id": "ac296b8d-a25c-4af6-b2ca-9c8b84befc24",
   "metadata": {},
   "source": [
    "Загрузим данные из прошлого пункта"
   ]
  },
  {
   "cell_type": "code",
   "execution_count": 39,
   "id": "3b61c60a-dc54-4425-b542-c27f7b702a25",
   "metadata": {},
   "outputs": [],
   "source": [
    "for i in range(0,7):\n",
    "    with open('sum_pred'+str(i)+'.pickle', 'rb') as handle:\n",
    "        locals()['sum_pred'+str(i)] = pickle.load(handle)"
   ]
  },
  {
   "cell_type": "code",
   "execution_count": 25,
   "id": "7aa1cf37",
   "metadata": {},
   "outputs": [],
   "source": [
    "delays = pd.read_csv('partners_delays.csv')"
   ]
  },
  {
   "cell_type": "markdown",
   "id": "2f150a95-f21f-467e-8377-aa948fffcf3c",
   "metadata": {},
   "source": [
    "\n",
    "Достанем из таблицы с партнёрами 200'000 строк"
   ]
  },
  {
   "cell_type": "markdown",
   "id": "dfb8cf0c-64a9-4817-8937-6bb0fe7afb36",
   "metadata": {},
   "source": [
    "Добавим к ним характеристики количества заказов"
   ]
  },
  {
   "cell_type": "code",
   "execution_count": 28,
   "id": "c7037c2f",
   "metadata": {},
   "outputs": [],
   "source": [
    "delays['date']=delays['dttm']\n",
    "delays0=delays[:200000].drop('dttm', axis=1)\n",
    "data0=data\n",
    "delays0 = delays0.merge(data0[:200000], on='date')[['partners_cnt', 'orders_cnt', 'delay_rate']]"
   ]
  },
  {
   "cell_type": "code",
   "execution_count": 29,
   "id": "e5ec81b5",
   "metadata": {},
   "outputs": [],
   "source": [
    "delays0 = delays0[['orders_cnt','partners_cnt','delay_rate']]"
   ]
  },
  {
   "cell_type": "markdown",
   "id": "acdfbfe1-8cab-422d-8268-ee1873c98430",
   "metadata": {},
   "source": [
    "Найдём соотношение количества партнёров к количеству заказов"
   ]
  },
  {
   "cell_type": "code",
   "execution_count": 30,
   "id": "d4989b20",
   "metadata": {},
   "outputs": [],
   "source": [
    "delays0['par_d_ord']=delays0.partners_cnt/delays0.orders_cnt"
   ]
  },
  {
   "cell_type": "code",
   "execution_count": 31,
   "id": "00291eb9",
   "metadata": {},
   "outputs": [],
   "source": [
    "delays0['isLate']=(delays0.delay_rate>0) * 1"
   ]
  },
  {
   "cell_type": "markdown",
   "id": "adfa486a-2312-4c10-9f60-29a948d137be",
   "metadata": {},
   "source": [
    "Создадим вспомогательную переменную "
   ]
  },
  {
   "cell_type": "code",
   "execution_count": 32,
   "id": "db18805e",
   "metadata": {},
   "outputs": [],
   "source": [
    "delays0 = delays0.loc[delays0.isLate==0]"
   ]
  },
  {
   "cell_type": "code",
   "execution_count": 33,
   "id": "0129e50c",
   "metadata": {},
   "outputs": [],
   "source": [
    "X_train, X_test, y_train, y_test = train_test_split(pd.DataFrame(delays0.orders_cnt), pd.DataFrame(delays0.par_d_ord), test_size=0.33, random_state=42)"
   ]
  },
  {
   "cell_type": "markdown",
   "id": "6365699a-4b2b-4c5a-b045-fb57cc708f91",
   "metadata": {},
   "source": [
    "Натренируем LGMRegressor на 200'000 строк<br>\n",
    "Анализ по - количество заказов<br>\n",
    "Целевая пременная - соотношение количества партнёров к количеству заказов.<br>"
   ]
  },
  {
   "cell_type": "code",
   "execution_count": 34,
   "id": "c6a098b1",
   "metadata": {},
   "outputs": [
    {
     "data": {
      "text/html": [
       "<style>#sk-container-id-1 {color: black;background-color: white;}#sk-container-id-1 pre{padding: 0;}#sk-container-id-1 div.sk-toggleable {background-color: white;}#sk-container-id-1 label.sk-toggleable__label {cursor: pointer;display: block;width: 100%;margin-bottom: 0;padding: 0.3em;box-sizing: border-box;text-align: center;}#sk-container-id-1 label.sk-toggleable__label-arrow:before {content: \"▸\";float: left;margin-right: 0.25em;color: #696969;}#sk-container-id-1 label.sk-toggleable__label-arrow:hover:before {color: black;}#sk-container-id-1 div.sk-estimator:hover label.sk-toggleable__label-arrow:before {color: black;}#sk-container-id-1 div.sk-toggleable__content {max-height: 0;max-width: 0;overflow: hidden;text-align: left;background-color: #f0f8ff;}#sk-container-id-1 div.sk-toggleable__content pre {margin: 0.2em;color: black;border-radius: 0.25em;background-color: #f0f8ff;}#sk-container-id-1 input.sk-toggleable__control:checked~div.sk-toggleable__content {max-height: 200px;max-width: 100%;overflow: auto;}#sk-container-id-1 input.sk-toggleable__control:checked~label.sk-toggleable__label-arrow:before {content: \"▾\";}#sk-container-id-1 div.sk-estimator input.sk-toggleable__control:checked~label.sk-toggleable__label {background-color: #d4ebff;}#sk-container-id-1 div.sk-label input.sk-toggleable__control:checked~label.sk-toggleable__label {background-color: #d4ebff;}#sk-container-id-1 input.sk-hidden--visually {border: 0;clip: rect(1px 1px 1px 1px);clip: rect(1px, 1px, 1px, 1px);height: 1px;margin: -1px;overflow: hidden;padding: 0;position: absolute;width: 1px;}#sk-container-id-1 div.sk-estimator {font-family: monospace;background-color: #f0f8ff;border: 1px dotted black;border-radius: 0.25em;box-sizing: border-box;margin-bottom: 0.5em;}#sk-container-id-1 div.sk-estimator:hover {background-color: #d4ebff;}#sk-container-id-1 div.sk-parallel-item::after {content: \"\";width: 100%;border-bottom: 1px solid gray;flex-grow: 1;}#sk-container-id-1 div.sk-label:hover label.sk-toggleable__label {background-color: #d4ebff;}#sk-container-id-1 div.sk-serial::before {content: \"\";position: absolute;border-left: 1px solid gray;box-sizing: border-box;top: 0;bottom: 0;left: 50%;z-index: 0;}#sk-container-id-1 div.sk-serial {display: flex;flex-direction: column;align-items: center;background-color: white;padding-right: 0.2em;padding-left: 0.2em;position: relative;}#sk-container-id-1 div.sk-item {position: relative;z-index: 1;}#sk-container-id-1 div.sk-parallel {display: flex;align-items: stretch;justify-content: center;background-color: white;position: relative;}#sk-container-id-1 div.sk-item::before, #sk-container-id-1 div.sk-parallel-item::before {content: \"\";position: absolute;border-left: 1px solid gray;box-sizing: border-box;top: 0;bottom: 0;left: 50%;z-index: -1;}#sk-container-id-1 div.sk-parallel-item {display: flex;flex-direction: column;z-index: 1;position: relative;background-color: white;}#sk-container-id-1 div.sk-parallel-item:first-child::after {align-self: flex-end;width: 50%;}#sk-container-id-1 div.sk-parallel-item:last-child::after {align-self: flex-start;width: 50%;}#sk-container-id-1 div.sk-parallel-item:only-child::after {width: 0;}#sk-container-id-1 div.sk-dashed-wrapped {border: 1px dashed gray;margin: 0 0.4em 0.5em 0.4em;box-sizing: border-box;padding-bottom: 0.4em;background-color: white;}#sk-container-id-1 div.sk-label label {font-family: monospace;font-weight: bold;display: inline-block;line-height: 1.2em;}#sk-container-id-1 div.sk-label-container {text-align: center;}#sk-container-id-1 div.sk-container {/* jupyter's `normalize.less` sets `[hidden] { display: none; }` but bootstrap.min.css set `[hidden] { display: none !important; }` so we also need the `!important` here to be able to override the default hidden behavior on the sphinx rendered scikit-learn.org. See: https://github.com/scikit-learn/scikit-learn/issues/21755 */display: inline-block !important;position: relative;}#sk-container-id-1 div.sk-text-repr-fallback {display: none;}</style><div id=\"sk-container-id-1\" class=\"sk-top-container\"><div class=\"sk-text-repr-fallback\"><pre>LGBMRegressor(metrics=&#x27;auc&#x27;, n_estimators=2000, verbose=-1)</pre><b>In a Jupyter environment, please rerun this cell to show the HTML representation or trust the notebook. <br />On GitHub, the HTML representation is unable to render, please try loading this page with nbviewer.org.</b></div><div class=\"sk-container\" hidden><div class=\"sk-item\"><div class=\"sk-estimator sk-toggleable\"><input class=\"sk-toggleable__control sk-hidden--visually\" id=\"sk-estimator-id-1\" type=\"checkbox\" checked><label for=\"sk-estimator-id-1\" class=\"sk-toggleable__label sk-toggleable__label-arrow\">LGBMRegressor</label><div class=\"sk-toggleable__content\"><pre>LGBMRegressor(metrics=&#x27;auc&#x27;, n_estimators=2000, verbose=-1)</pre></div></div></div></div></div>"
      ],
      "text/plain": [
       "LGBMRegressor(metrics='auc', n_estimators=2000, verbose=-1)"
      ]
     },
     "execution_count": 34,
     "metadata": {},
     "output_type": "execute_result"
    }
   ],
   "source": [
    "params = {'n_estimators': 2000, 'verbose': -1}\n",
    "params_fit = {'X': X_train, 'y': y_train, 'eval_set': (X_test, y_test), 'verbose': False, 'early_stopping_rounds':5}\n",
    "gbm = lgb.LGBMRegressor(**params, metrics='auc')\n",
    "gbm.fit(**params_fit)"
   ]
  },
  {
   "cell_type": "markdown",
   "id": "f4abaff3-22e7-4176-a4f6-fbb532ad6d7d",
   "metadata": {},
   "source": [
    "Сделаем предикт для всех дней недели, всех регионов"
   ]
  },
  {
   "cell_type": "code",
   "execution_count": 40,
   "id": "2c7c6023",
   "metadata": {},
   "outputs": [
    {
     "name": "stderr",
     "output_type": "stream",
     "text": [
      "100%|██████████| 7/7 [00:16<00:00,  2.30s/it]\n"
     ]
    }
   ],
   "source": [
    "for j in tqdm(range(0, 7)):\n",
    "    locals()['count_wod'+str(j)]=pd.DataFrame()\n",
    "    train_df = locals()['sum_pred'+str(0)]\n",
    "    for i in train_df.columns:\n",
    "        locals()['count_wod'+str(j)][i] = gbm.predict(pd.DataFrame(train_df[i]))"
   ]
  },
  {
   "cell_type": "markdown",
   "id": "73a1113a-4814-46c4-8fb9-0072d13d3f30",
   "metadata": {},
   "source": [
    "Сохраним файл с предиктами"
   ]
  },
  {
   "cell_type": "code",
   "execution_count": 42,
   "id": "0707d12c",
   "metadata": {},
   "outputs": [],
   "source": [
    "for i in range(0, 7):\n",
    "    with open('count_wod'+str(i)+'.pickle', 'wb') as handle:\n",
    "            pickle.dump(locals()['count_wod'+str(i)], handle, protocol=pickle.HIGHEST_PROTOCOL)"
   ]
  }
 ],
 "metadata": {
  "kernelspec": {
   "display_name": "Python 3 (ipykernel)",
   "language": "python",
   "name": "python3"
  },
  "language_info": {
   "codemirror_mode": {
    "name": "ipython",
    "version": 3
   },
   "file_extension": ".py",
   "mimetype": "text/x-python",
   "name": "python",
   "nbconvert_exporter": "python",
   "pygments_lexer": "ipython3",
   "version": "3.8.13"
  }
 },
 "nbformat": 4,
 "nbformat_minor": 5
}
