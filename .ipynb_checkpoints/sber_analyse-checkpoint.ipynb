{
 "cells": [
  {
   "cell_type": "code",
   "execution_count": 1,
   "id": "b4ca524b",
   "metadata": {},
   "outputs": [],
   "source": [
    "import pandas as pd\n",
    "import pickle"
   ]
  },
  {
   "cell_type": "code",
   "execution_count": 393,
   "id": "81ba009e",
   "metadata": {},
   "outputs": [],
   "source": [
    "for i in range(0,7):\n",
    "    with open('sum_pred'+str(i)+'.pickle', 'rb') as handle:\n",
    "        locals()['sum_pred'+str(i)] = pickle.load(handle)"
   ]
  },
  {
   "cell_type": "code",
   "execution_count": 394,
   "id": "513892ff",
   "metadata": {},
   "outputs": [],
   "source": [
    "for i in range(0,7):\n",
    "    with open('count_wod'+str(i)+'.pickle', 'rb') as handle:\n",
    "        locals()['count_wod'+str(i)] = pickle.load(handle)"
   ]
  },
  {
   "cell_type": "code",
   "execution_count": 395,
   "id": "56aa488b",
   "metadata": {},
   "outputs": [],
   "source": [
    "for i in range(0,7):\n",
    "    locals()['part_count_wod'+str(i)] = locals()['count_wod'+str(i)]*locals()['sum_pred'+str(i)]"
   ]
  },
  {
   "cell_type": "code",
   "execution_count": 396,
   "id": "63fb4b3c",
   "metadata": {},
   "outputs": [],
   "source": [
    "for i in range(0,7):\n",
    "    locals()['part_count_wod_r'+str(i)] =locals()['part_count_wod'+str(i)].round(0).astype(int)[:-1]"
   ]
  },
  {
   "cell_type": "code",
   "execution_count": 397,
   "id": "635a2542",
   "metadata": {},
   "outputs": [
    {
     "data": {
      "text/plain": [
       "0     8\n",
       "1     5\n",
       "2     5\n",
       "3     5\n",
       "4     5\n",
       "5     5\n",
       "6     4\n",
       "7     5\n",
       "8     5\n",
       "9     5\n",
       "10    5\n",
       "11    2\n",
       "12    2\n",
       "13    8\n",
       "14    8\n",
       "15    8\n",
       "Name: predict0, dtype: int32"
      ]
     },
     "execution_count": 397,
     "metadata": {},
     "output_type": "execute_result"
    }
   ],
   "source": [
    "part_count_wod_r1['predict0']"
   ]
  },
  {
   "cell_type": "code",
   "execution_count": 398,
   "id": "806c1160",
   "metadata": {},
   "outputs": [
    {
     "data": {
      "text/plain": [
       "21.25"
      ]
     },
     "execution_count": 398,
     "metadata": {},
     "output_type": "execute_result"
    }
   ],
   "source": [
    "part_count_wod_r1['predict0'].sum()/4"
   ]
  },
  {
   "cell_type": "code",
   "execution_count": 399,
   "id": "5edaa8e7",
   "metadata": {},
   "outputs": [],
   "source": [
    "new_df=pd.DataFrame()\n",
    "for i in range(len(part_count_wod_r1['predict0'])-1):\n",
    "    new_df.loc[i+1,'diff'] = part_count_wod_r1['predict0'][i+1]-part_count_wod_r1['predict0'][i]\n",
    "    "
   ]
  },
  {
   "cell_type": "code",
   "execution_count": 400,
   "id": "a28dfcb2",
   "metadata": {},
   "outputs": [
    {
     "data": {
      "text/plain": [
       "0     8\n",
       "1     5\n",
       "2     5\n",
       "3     5\n",
       "4     5\n",
       "5     5\n",
       "6     4\n",
       "7     5\n",
       "8     5\n",
       "9     5\n",
       "10    5\n",
       "11    2\n",
       "12    2\n",
       "13    8\n",
       "14    8\n",
       "15    8\n",
       "Name: predict0, dtype: int32"
      ]
     },
     "execution_count": 400,
     "metadata": {},
     "output_type": "execute_result"
    }
   ],
   "source": [
    "part_count_wod_r1['predict0']"
   ]
  },
  {
   "cell_type": "code",
   "execution_count": 401,
   "id": "e876811a",
   "metadata": {},
   "outputs": [],
   "source": [
    "for i in range(len(part_count_wod_r1['predict0'].index)-1):\n",
    "    new_df.loc[i, 'predict']=part_count_wod_r1['predict0'][i]"
   ]
  },
  {
   "cell_type": "code",
   "execution_count": 402,
   "id": "35ac7db5",
   "metadata": {},
   "outputs": [
    {
     "data": {
      "text/html": [
       "<div>\n",
       "<style scoped>\n",
       "    .dataframe tbody tr th:only-of-type {\n",
       "        vertical-align: middle;\n",
       "    }\n",
       "\n",
       "    .dataframe tbody tr th {\n",
       "        vertical-align: top;\n",
       "    }\n",
       "\n",
       "    .dataframe thead th {\n",
       "        text-align: right;\n",
       "    }\n",
       "</style>\n",
       "<table border=\"1\" class=\"dataframe\">\n",
       "  <thead>\n",
       "    <tr style=\"text-align: right;\">\n",
       "      <th></th>\n",
       "      <th>diff</th>\n",
       "      <th>predict</th>\n",
       "    </tr>\n",
       "  </thead>\n",
       "  <tbody>\n",
       "    <tr>\n",
       "      <th>0</th>\n",
       "      <td>0.0</td>\n",
       "      <td>8.0</td>\n",
       "    </tr>\n",
       "    <tr>\n",
       "      <th>1</th>\n",
       "      <td>-3.0</td>\n",
       "      <td>5.0</td>\n",
       "    </tr>\n",
       "    <tr>\n",
       "      <th>2</th>\n",
       "      <td>0.0</td>\n",
       "      <td>5.0</td>\n",
       "    </tr>\n",
       "    <tr>\n",
       "      <th>3</th>\n",
       "      <td>0.0</td>\n",
       "      <td>5.0</td>\n",
       "    </tr>\n",
       "    <tr>\n",
       "      <th>4</th>\n",
       "      <td>0.0</td>\n",
       "      <td>5.0</td>\n",
       "    </tr>\n",
       "    <tr>\n",
       "      <th>5</th>\n",
       "      <td>0.0</td>\n",
       "      <td>5.0</td>\n",
       "    </tr>\n",
       "    <tr>\n",
       "      <th>6</th>\n",
       "      <td>-1.0</td>\n",
       "      <td>4.0</td>\n",
       "    </tr>\n",
       "    <tr>\n",
       "      <th>7</th>\n",
       "      <td>1.0</td>\n",
       "      <td>5.0</td>\n",
       "    </tr>\n",
       "    <tr>\n",
       "      <th>8</th>\n",
       "      <td>0.0</td>\n",
       "      <td>5.0</td>\n",
       "    </tr>\n",
       "    <tr>\n",
       "      <th>9</th>\n",
       "      <td>0.0</td>\n",
       "      <td>5.0</td>\n",
       "    </tr>\n",
       "    <tr>\n",
       "      <th>10</th>\n",
       "      <td>0.0</td>\n",
       "      <td>5.0</td>\n",
       "    </tr>\n",
       "    <tr>\n",
       "      <th>11</th>\n",
       "      <td>-3.0</td>\n",
       "      <td>2.0</td>\n",
       "    </tr>\n",
       "    <tr>\n",
       "      <th>12</th>\n",
       "      <td>0.0</td>\n",
       "      <td>2.0</td>\n",
       "    </tr>\n",
       "    <tr>\n",
       "      <th>13</th>\n",
       "      <td>6.0</td>\n",
       "      <td>8.0</td>\n",
       "    </tr>\n",
       "    <tr>\n",
       "      <th>14</th>\n",
       "      <td>0.0</td>\n",
       "      <td>8.0</td>\n",
       "    </tr>\n",
       "    <tr>\n",
       "      <th>15</th>\n",
       "      <td>0.0</td>\n",
       "      <td>NaN</td>\n",
       "    </tr>\n",
       "  </tbody>\n",
       "</table>\n",
       "</div>"
      ],
      "text/plain": [
       "    diff  predict\n",
       "0    0.0      8.0\n",
       "1   -3.0      5.0\n",
       "2    0.0      5.0\n",
       "3    0.0      5.0\n",
       "4    0.0      5.0\n",
       "5    0.0      5.0\n",
       "6   -1.0      4.0\n",
       "7    1.0      5.0\n",
       "8    0.0      5.0\n",
       "9    0.0      5.0\n",
       "10   0.0      5.0\n",
       "11  -3.0      2.0\n",
       "12   0.0      2.0\n",
       "13   6.0      8.0\n",
       "14   0.0      8.0\n",
       "15   0.0      NaN"
      ]
     },
     "execution_count": 402,
     "metadata": {},
     "output_type": "execute_result"
    }
   ],
   "source": [
    "new_df = new_df.loc[new_df.index.sort_values()]\n",
    "new_df.index=new_df.index\n",
    "new_df['diff'].iloc[0]=0\n",
    "new_df"
   ]
  },
  {
   "cell_type": "code",
   "execution_count": 403,
   "id": "c575a078",
   "metadata": {},
   "outputs": [
    {
     "data": {
      "text/plain": [
       "16"
      ]
     },
     "execution_count": 403,
     "metadata": {},
     "output_type": "execute_result"
    }
   ],
   "source": [
    "len(new_df['diff'])"
   ]
  },
  {
   "cell_type": "code",
   "execution_count": 410,
   "id": "d7f21b1f",
   "metadata": {},
   "outputs": [],
   "source": [
    "shifts=0\n",
    "num=0"
   ]
  },
  {
   "cell_type": "code",
   "execution_count": 416,
   "id": "e382cf5a",
   "metadata": {},
   "outputs": [
    {
     "name": "stdout",
     "output_type": "stream",
     "text": [
      "shift_0-1\n",
      "8.0\n",
      "shift_1-6\n",
      "5.0\n",
      "shift_6-7\n",
      "4.0\n",
      "shift_7-11\n",
      "5.0\n",
      "shift_11-13\n",
      "2.0\n",
      "shift_13-15\n",
      "8.0\n"
     ]
    }
   ],
   "source": [
    "shifts = pd.DataFrame()\n",
    "for i in range(len(new_df['diff'])):\n",
    "    if i == 0:\n",
    "        end_index=0\n",
    "#         print('shift_'+'0'+'-'+'0')\n",
    "        num=new_df['predict'][i]\n",
    "#         print(str(num))\n",
    "#         start_index=i\n",
    "    if i > 0:\n",
    "        if new_df['diff'][i] != 0:\n",
    "            start_index=end_index\n",
    "            end_index=i\n",
    "            shifts.loc['shift_'+str(start_index + 8)+'-'+str(end_index + 8), 'Mon']=num\n",
    "            print('shift_'+str(start_index)+'-'+str(end_index))\n",
    "            print(num)\n",
    "            num=num+new_df['diff'][i]\n",
    "    if i == len(new_df['diff'])-1:\n",
    "        start_index=end_index\n",
    "        end_index=i\n",
    "        shifts.loc['shift_'+str(start_index + 8)+'-'+str(end_index + 8), 'Mon']=num\n",
    "        print('shift_'+str(start_index)+'-'+str(end_index))\n",
    "        print(num)"
   ]
  },
  {
   "cell_type": "code",
   "execution_count": 429,
   "id": "012dfd94",
   "metadata": {},
   "outputs": [],
   "source": [
    "import matplotlib.pyplot as plt"
   ]
  },
  {
   "cell_type": "code",
   "execution_count": 440,
   "id": "a77b0b50",
   "metadata": {},
   "outputs": [
    {
     "data": {
      "text/plain": [
       "Mon    2.0\n",
       "dtype: float64"
      ]
     },
     "execution_count": 440,
     "metadata": {},
     "output_type": "execute_result"
    }
   ],
   "source": [
    "shifts.min()"
   ]
  },
  {
   "cell_type": "code",
   "execution_count": 438,
   "id": "bbb8911a",
   "metadata": {},
   "outputs": [
    {
     "data": {
      "image/png": "[encoded data removed]",
      "text/plain": [
       "<Figure size 432x288 with 1 Axes>"
      ]
     },
     "metadata": {
      "needs_background": "light"
     },
     "output_type": "display_data"
    }
   ],
   "source": [
    "plt.bar(shifts.index, shifts['Mon'], width=0.5)\n",
    "plt.show()"
   ]
  },
  {
   "cell_type": "code",
   "execution_count": 439,
   "id": "90c42e2f",
   "metadata": {},
   "outputs": [
    {
     "data": {
      "text/plain": [
       "<AxesSubplot:>"
      ]
     },
     "execution_count": 439,
     "metadata": {},
     "output_type": "execute_result"
    },
    {
     "data": {
      "image/png": "[encoded data removed]",
      "text/plain": [
       "<Figure size 432x288 with 1 Axes>"
      ]
     },
     "metadata": {
      "needs_background": "light"
     },
     "output_type": "display_data"
    }
   ],
   "source": [
    "shifts.plot()"
   ]
  },
  {
   "cell_type": "code",
   "execution_count": 110,
   "id": "c5ad417c",
   "metadata": {},
   "outputs": [
    {
     "data": {
      "text/plain": [
       "-3.0"
      ]
     },
     "execution_count": 110,
     "metadata": {},
     "output_type": "execute_result"
    }
   ],
   "source": [
    "smena_konets_1"
   ]
  }
 ],
 "metadata": {
  "kernelspec": {
   "display_name": "Python 3",
   "language": "python",
   "name": "python3"
  },
  "language_info": {
   "codemirror_mode": {
    "name": "ipython",
    "version": 3
   },
   "file_extension": ".py",
   "mimetype": "text/x-python",
   "name": "python",
   "nbconvert_exporter": "python",
   "pygments_lexer": "ipython3",
   "version": "3.8.8"
  }
 },
 "nbformat": 4,
 "nbformat_minor": 5
}
